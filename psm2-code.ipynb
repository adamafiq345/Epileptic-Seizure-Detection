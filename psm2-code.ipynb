{
 "cells": [
  {
   "cell_type": "markdown",
   "id": "2e3f8616",
   "metadata": {},
   "source": [
    "Importing tools and dataset"
   ]
  },
  {
   "cell_type": "code",
   "execution_count": 2,
   "id": "92b44555",
   "metadata": {},
   "outputs": [],
   "source": [
    "from mpl_toolkits.mplot3d import Axes3D\n",
    "from sklearn.preprocessing import StandardScaler \n",
    "import matplotlib.pyplot as plt # plotting\n",
    "import numpy as np # linear algebra\n",
    "import os # accessing directory structure\n",
    "import pandas as pd\n",
    "import seaborn as sns"
   ]
  },
  {
   "cell_type": "code",
   "execution_count": 3,
   "id": "cdfc9daa",
   "metadata": {},
   "outputs": [
    {
     "name": "stdout",
     "output_type": "stream",
     "text": [
      "Original Data:\n",
      "   Unnamed: 0   X1   X2   X3   X4   X5   X6   X7   X8   X9  ...  X170  X171  \\\n",
      "0  X21.V1.791  135  190  229  223  192  125   55   -9  -33  ...   -17   -15   \n",
      "1  X15.V1.924  386  382  356  331  320  315  307  272  244  ...   164   150   \n",
      "2     X8.V1.1  -32  -39  -47  -37  -32  -36  -57  -73  -85  ...    57    64   \n",
      "3   X16.V1.60 -105 -101  -96  -92  -89  -95 -102 -100  -87  ...   -82   -81   \n",
      "4   X20.V1.54   -9  -65  -98 -102  -78  -48  -16    0  -21  ...     4     2   \n",
      "\n",
      "   X172  X173  X174  X175  X176  X177  X178  y  \n",
      "0   -31   -77  -103  -127  -116   -83   -51  4  \n",
      "1   146   152   157   156   154   143   129  1  \n",
      "2    48    19   -12   -30   -35   -35   -36  5  \n",
      "3   -80   -77   -85   -77   -72   -69   -65  5  \n",
      "4   -12   -32   -41   -65   -83   -89   -73  5  \n",
      "\n",
      "[5 rows x 180 columns]\n",
      "\n",
      "Data Types:\n",
      "Unnamed: 0    object\n",
      "X1             int64\n",
      "X2             int64\n",
      "X3             int64\n",
      "X4             int64\n",
      "               ...  \n",
      "X175           int64\n",
      "X176           int64\n",
      "X177           int64\n",
      "X178           int64\n",
      "y              int64\n",
      "Length: 180, dtype: object\n",
      "\n",
      "Non-numeric Values:\n",
      "       Unnamed: 0  X1  X2  X3  X4  X5  X6  X7  X8  X9  ...  X170  X171  X172  \\\n",
      "0      X21.V1.791 NaN NaN NaN NaN NaN NaN NaN NaN NaN  ...   NaN   NaN   NaN   \n",
      "1      X15.V1.924 NaN NaN NaN NaN NaN NaN NaN NaN NaN  ...   NaN   NaN   NaN   \n",
      "2         X8.V1.1 NaN NaN NaN NaN NaN NaN NaN NaN NaN  ...   NaN   NaN   NaN   \n",
      "3       X16.V1.60 NaN NaN NaN NaN NaN NaN NaN NaN NaN  ...   NaN   NaN   NaN   \n",
      "4       X20.V1.54 NaN NaN NaN NaN NaN NaN NaN NaN NaN  ...   NaN   NaN   NaN   \n",
      "...           ...  ..  ..  ..  ..  ..  ..  ..  ..  ..  ...   ...   ...   ...   \n",
      "11495  X22.V1.114 NaN NaN NaN NaN NaN NaN NaN NaN NaN  ...   NaN   NaN   NaN   \n",
      "11496  X19.V1.354 NaN NaN NaN NaN NaN NaN NaN NaN NaN  ...   NaN   NaN   NaN   \n",
      "11497    X8.V1.28 NaN NaN NaN NaN NaN NaN NaN NaN NaN  ...   NaN   NaN   NaN   \n",
      "11498  X10.V1.932 NaN NaN NaN NaN NaN NaN NaN NaN NaN  ...   NaN   NaN   NaN   \n",
      "11499  X16.V1.210 NaN NaN NaN NaN NaN NaN NaN NaN NaN  ...   NaN   NaN   NaN   \n",
      "\n",
      "       X173  X174  X175  X176  X177  X178   y  \n",
      "0       NaN   NaN   NaN   NaN   NaN   NaN NaN  \n",
      "1       NaN   NaN   NaN   NaN   NaN   NaN NaN  \n",
      "2       NaN   NaN   NaN   NaN   NaN   NaN NaN  \n",
      "3       NaN   NaN   NaN   NaN   NaN   NaN NaN  \n",
      "4       NaN   NaN   NaN   NaN   NaN   NaN NaN  \n",
      "...     ...   ...   ...   ...   ...   ...  ..  \n",
      "11495   NaN   NaN   NaN   NaN   NaN   NaN NaN  \n",
      "11496   NaN   NaN   NaN   NaN   NaN   NaN NaN  \n",
      "11497   NaN   NaN   NaN   NaN   NaN   NaN NaN  \n",
      "11498   NaN   NaN   NaN   NaN   NaN   NaN NaN  \n",
      "11499   NaN   NaN   NaN   NaN   NaN   NaN NaN  \n",
      "\n",
      "[11500 rows x 180 columns]\n"
     ]
    }
   ],
   "source": [
    "data = pd.read_csv(\"C:/Users/Admin/Desktop/Last Sem Degree/PSM2/Coding/data.csv\")\n",
    "data.head(10)\n",
    "\n",
    "# Display the first few rows of the dataframe to inspect the data\n",
    "print(\"Original Data:\")\n",
    "print(data.head())\n",
    "\n",
    "# Display data types to identify any non-numeric columns\n",
    "print(\"\\nData Types:\")\n",
    "print(data.dtypes)\n",
    "\n",
    "# Check for any non-numeric values in the data\n",
    "print(\"\\nNon-numeric Values:\")\n",
    "print(data[~data.map(np.isreal)])\n"
   ]
  },
  {
   "cell_type": "code",
   "execution_count": 5,
   "id": "bee14700",
   "metadata": {},
   "outputs": [
    {
     "name": "stdout",
     "output_type": "stream",
     "text": [
      "Data Types of Each Column:\n",
      "Unnamed: 0    object\n",
      "X1             int64\n",
      "X2             int64\n",
      "X3             int64\n",
      "X4             int64\n",
      "               ...  \n",
      "X175           int64\n",
      "X176           int64\n",
      "X177           int64\n",
      "X178           int64\n",
      "y              int64\n",
      "Length: 180, dtype: object\n",
      "\n",
      "Number of Columns by Data Type:\n",
      "int64     179\n",
      "object      1\n",
      "Name: count, dtype: int64\n"
     ]
    }
   ],
   "source": [
    "# Display the data types of each column\n",
    "print(\"Data Types of Each Column:\")\n",
    "print(data.dtypes)\n",
    "\n",
    "# Count the number of columns by data type\n",
    "print(\"\\nNumber of Columns by Data Type:\")\n",
    "print(data.dtypes.value_counts())\n"
   ]
  },
  {
   "cell_type": "code",
   "execution_count": 4,
   "id": "a027e7a9",
   "metadata": {},
   "outputs": [
    {
     "name": "stdout",
     "output_type": "stream",
     "text": [
      "\n",
      "Missing Values:\n",
      "Unnamed: 0    0\n",
      "X1            0\n",
      "X2            0\n",
      "X3            0\n",
      "X4            0\n",
      "             ..\n",
      "X175          0\n",
      "X176          0\n",
      "X177          0\n",
      "X178          0\n",
      "y             0\n",
      "Length: 180, dtype: int64\n"
     ]
    }
   ],
   "source": [
    "# Check for missing values\n",
    "print(\"\\nMissing Values:\")\n",
    "print(data.isnull().sum())"
   ]
  },
  {
   "cell_type": "code",
   "execution_count": 6,
   "id": "44f0d89a",
   "metadata": {},
   "outputs": [
    {
     "name": "stdout",
     "output_type": "stream",
     "text": [
      "Null values found:\n",
      "Unnamed: 0    0\n",
      "X1            0\n",
      "X2            0\n",
      "X3            0\n",
      "X4            0\n",
      "             ..\n",
      "X175          0\n",
      "X176          0\n",
      "X177          0\n",
      "X178          0\n",
      "y             0\n",
      "Length: 180, dtype: int64\n",
      "\n",
      "Negative values found:\n",
      "X1      6348\n",
      "X2      6328\n",
      "X3      6265\n",
      "X4      6272\n",
      "X5      6337\n",
      "        ... \n",
      "X175    6412\n",
      "X176    6423\n",
      "X177    6416\n",
      "X178    6387\n",
      "y          0\n",
      "Length: 179, dtype: int64\n"
     ]
    }
   ],
   "source": [
    "# check for null values\n",
    "print(\"Null values found:\")\n",
    "print(data.isnull().sum()) # sum null values in columns\n",
    "\n",
    "# Check for negative values\n",
    "print(\"\\nNegative values found:\")\n",
    "numerical_columns = data.select_dtypes(include=['int64','float64']). columns # select numerical columns\n",
    "negative_values = (data[numerical_columns]< 0 ).sum() # Count negative value per column\n",
    "print(negative_values)"
   ]
  },
  {
   "cell_type": "code",
   "execution_count": 7,
   "id": "a2f56a7d",
   "metadata": {},
   "outputs": [
    {
     "name": "stdout",
     "output_type": "stream",
     "text": [
      "\n",
      "Non-numeric columns found:\n",
      "Index(['Unnamed: 0'], dtype='object')\n",
      "\n",
      "Number of non-numeric columns: 1\n"
     ]
    }
   ],
   "source": [
    "# check for non numerical columns\n",
    "non_numeric_columns = data.select_dtypes(exclude=['int64','float64']).columns           # filter column that are not numerical (e.g. strings, dates, etc)\n",
    "\n",
    "# Print Result\n",
    "if len(non_numeric_columns) > 0:\n",
    "    print(\"\\nNon-numeric columns found:\")\n",
    "    print(non_numeric_columns)\n",
    "    print(f\"\\nNumber of non-numeric columns: {len(non_numeric_columns)}\")                  # Show how many non-numeric columns\n",
    "else:\n",
    "    print(\"All column in the dataset are numerical.\")"
   ]
  }
 ],
 "metadata": {
  "kernelspec": {
   "display_name": "Python 3",
   "language": "python",
   "name": "python3"
  },
  "language_info": {
   "codemirror_mode": {
    "name": "ipython",
    "version": 3
   },
   "file_extension": ".py",
   "mimetype": "text/x-python",
   "name": "python",
   "nbconvert_exporter": "python",
   "pygments_lexer": "ipython3",
   "version": "3.10.11"
  }
 },
 "nbformat": 4,
 "nbformat_minor": 5
}
